{
  "cells": [
    {
      "cell_type": "markdown",
      "metadata": {
        "id": "view-in-github",
        "colab_type": "text"
      },
      "source": [
        "<a href=\"https://colab.research.google.com/github/Gastonnrb/TEC-Ciencia_de_Datos/blob/main/Copia_de_Terrium.ipynb\" target=\"_parent\"><img src=\"https://colab.research.google.com/assets/colab-badge.svg\" alt=\"Open In Colab\"/></a>"
      ]
    },
    {
      "cell_type": "markdown",
      "metadata": {
        "id": "ZN_YzXRmkbi8"
      },
      "source": [
        "## Reto Terrium"
      ]
    },
    {
      "cell_type": "code",
      "execution_count": 14,
      "metadata": {
        "id": "SmPZsZevkbjB"
      },
      "outputs": [],
      "source": [
        "import pandas as pd \n",
        "import numpy as np\n",
        "import statistics as st "
      ]
    },
    {
      "cell_type": "code",
      "execution_count": 15,
      "metadata": {
        "colab": {
          "base_uri": "https://localhost:8080/"
        },
        "id": "WFVuV9G6kbjC",
        "outputId": "3ae6744b-fded-4665-bad0-ab67f517bd13"
      },
      "outputs": [
        {
          "output_type": "stream",
          "name": "stdout",
          "text": [
            "Drive already mounted at /content/drive/; to attempt to forcibly remount, call drive.mount(\"/content/drive/\", force_remount=True).\n"
          ]
        }
      ],
      "source": [
        "\n",
        "from google.colab import drive \n",
        "drive.mount('/content/drive/')\n",
        "\n",
        "df = pd.read_csv('/content/drive/Shareddrives/Ciencia de datos/Reto/Data/CT, info universidades, 2022 08 10.xlsx - datos ct.csv')\n",
        "df.head(2)\n",
        "df = df.sample(1000,random_state=1)"
      ]
    },
    {
      "cell_type": "code",
      "source": [
        "!ls '/content/drive/Shareddrives/Ciencia de datos/Reto/Data/CT, info universidades, 2022 08 10.xlsx - datos ct.csv'"
      ],
      "metadata": {
        "colab": {
          "base_uri": "https://localhost:8080/"
        },
        "id": "FSLgioZQRtdj",
        "outputId": "35f9f769-211f-427a-ce24-69ae9bf0f474"
      },
      "execution_count": 16,
      "outputs": [
        {
          "output_type": "stream",
          "name": "stdout",
          "text": [
            "'/content/drive/Shareddrives/Ciencia de datos/Reto/Data/CT, info universidades, 2022 08 10.xlsx - datos ct.csv'\n"
          ]
        }
      ]
    },
    {
      "cell_type": "code",
      "execution_count": 17,
      "metadata": {
        "id": "ri9G5CHikbjD",
        "outputId": "49b08ceb-ee9a-4c5a-cc03-15203a450ac1",
        "colab": {
          "base_uri": "https://localhost:8080/"
        }
      },
      "outputs": [
        {
          "output_type": "execute_result",
          "data": {
            "text/plain": [
              "(1000, 123)"
            ]
          },
          "metadata": {},
          "execution_count": 17
        }
      ],
      "source": [
        "df.shape"
      ]
    },
    {
      "cell_type": "markdown",
      "metadata": {
        "id": "U7CFlpfnkbjE"
      },
      "source": [
        "Eliminamos las columnas de datos que presentan NAs ya que son columnas irrelevantes para el DF."
      ]
    },
    {
      "cell_type": "code",
      "execution_count": 18,
      "metadata": {
        "id": "-oxRGErakbjE",
        "outputId": "44ed1274-4402-47e3-cc08-76da49b6d5f3",
        "colab": {
          "base_uri": "https://localhost:8080/"
        }
      },
      "outputs": [
        {
          "output_type": "stream",
          "name": "stdout",
          "text": [
            "Unnamed: 3      1000\n",
            "Unnamed: 7      1000\n",
            "Unnamed: 115    1000\n",
            "Unnamed: 19     1000\n",
            "dtype: int64\n"
          ]
        }
      ],
      "source": [
        "print(df.isna().sum()[['Unnamed: 3','Unnamed: 7','Unnamed: 115','Unnamed: 19']])\n",
        "df = df.drop(['Unnamed: 3','Unnamed: 7','Unnamed: 115','Unnamed: 19'], axis=1)"
      ]
    },
    {
      "cell_type": "markdown",
      "metadata": {
        "id": "oJ_DzjJlkbjF"
      },
      "source": [
        "Corroboramos la cantidad de NAs que seguimos teniendo en el DF. Sin las columnas pasadas no tenemos NAs por lo tanto podemos seguir explorando el DF."
      ]
    },
    {
      "cell_type": "code",
      "execution_count": 19,
      "metadata": {
        "id": "gE-vigWfkbjF"
      },
      "outputs": [],
      "source": [
        "x = df.isna().sum()"
      ]
    },
    {
      "cell_type": "code",
      "execution_count": 20,
      "metadata": {
        "id": "Dbj3jE9ZkbjG",
        "outputId": "778ed55b-c5ab-4963-91de-0173ca3d6766",
        "colab": {
          "base_uri": "https://localhost:8080/"
        }
      },
      "outputs": [
        {
          "output_type": "execute_result",
          "data": {
            "text/plain": [
              "ESTADO_FINAL      0\n",
              "ESTADO_FINAL.1    0\n",
              "PRO_PROPUESTO     0\n",
              "TIPO              0\n",
              "PRODUCTO          0\n",
              "                 ..\n",
              "ATRIB_ORD_3       0\n",
              "ATRIB_ORD_4       0\n",
              "ATRIB_ORD_5       0\n",
              "ATRIB_ORD_6       0\n",
              "ATRIB_ORD_7       0\n",
              "Length: 119, dtype: int64"
            ]
          },
          "metadata": {},
          "execution_count": 20
        }
      ],
      "source": [
        "x"
      ]
    },
    {
      "cell_type": "code",
      "execution_count": 21,
      "metadata": {
        "id": "yRFB8HoGkbjG",
        "outputId": "6c32cc60-8309-4aad-df80-c1fdf67bf633",
        "colab": {
          "base_uri": "https://localhost:8080/",
          "height": 386
        }
      },
      "outputs": [
        {
          "output_type": "execute_result",
          "data": {
            "text/plain": [
              "            ESTADO_FINAL  ESTADO_FINAL.1       PRO_PROPUESTO    TIPO  \\\n",
              "9928  Cerrado - Factible  ESTADO_FINAL_3  PRO_PROPUESTO_1763  TIPO_3   \n",
              "8290  Cerrado - Factible  ESTADO_FINAL_3    PRO_PROPUESTO_77  TIPO_3   \n",
              "964   Cerrado - Factible  ESTADO_FINAL_3               VACÍO  TIPO_2   \n",
              "3198  Cerrado - Factible  ESTADO_FINAL_3               VACÍO  TIPO_1   \n",
              "396   Cerrado - Factible  ESTADO_FINAL_3               VACÍO  TIPO_2   \n",
              "\n",
              "        PRODUCTO     FORMA ATRIB_DIM_1 ATRIB_DIM_2 ATRIB_DIM_3  \\\n",
              "9928  PRODUCTO_5   FORMA_5       VACÍO       VACÍO       VACÍO   \n",
              "8290  PRODUCTO_7  FORMA_14       VACÍO       VACÍO       VACÍO   \n",
              "964   PRODUCTO_5   FORMA_5       VACÍO       VACÍO       VACÍO   \n",
              "3198  PRODUCTO_5   FORMA_5       VACÍO       VACÍO       VACÍO   \n",
              "396   PRODUCTO_5   FORMA_9       VACÍO       VACÍO       VACÍO   \n",
              "\n",
              "            ATRIB_DIM_4  ...     ATRIB_PRO_93      ATRIB_PRO_94  \\\n",
              "9928  ATRIB_DIM_4__1686  ...            VACÍO  ATRIB_PRO_94__27   \n",
              "8290  ATRIB_DIM_4__1170  ...  ATRIB_PRO_93__1             VACÍO   \n",
              "964   ATRIB_DIM_4__1556  ...            VACÍO  ATRIB_PRO_94__15   \n",
              "3198  ATRIB_DIM_4__1441  ...            VACÍO  ATRIB_PRO_94__31   \n",
              "396     ATRIB_DIM_4__87  ...            VACÍO   ATRIB_PRO_94__3   \n",
              "\n",
              "          ATRIB_PRO_95       ATRIB_ORD_1 ATRIB_ORD_2      ATRIB_ORD_3  \\\n",
              "9928  ATRIB_PRO_95__41  ATRIB_ORD_1__589       VACÍO            VACÍO   \n",
              "8290             VACÍO  ATRIB_ORD_1__110       VACÍO  ATRIB_ORD_3__14   \n",
              "964   ATRIB_PRO_95__11   ATRIB_ORD_1__72       VACÍO            VACÍO   \n",
              "3198  ATRIB_PRO_95__10   ATRIB_ORD_1__95       VACÍO            VACÍO   \n",
              "396   ATRIB_PRO_95__11             VACÍO       VACÍO   ATRIB_ORD_3__1   \n",
              "\n",
              "           ATRIB_ORD_4      ATRIB_ORD_5      ATRIB_ORD_6      ATRIB_ORD_7  \n",
              "9928  ATRIB_ORD_4__121            VACÍO  ATRIB_ORD_6__14  ATRIB_ORD_7__83  \n",
              "8290   ATRIB_ORD_4__92            VACÍO            VACÍO  ATRIB_ORD_7__85  \n",
              "964     ATRIB_ORD_4__3            VACÍO   ATRIB_ORD_6__1  ATRIB_ORD_7__77  \n",
              "3198  ATRIB_ORD_4__200            VACÍO  ATRIB_ORD_6__27  ATRIB_ORD_7__22  \n",
              "396     ATRIB_ORD_4__4  ATRIB_ORD_5__48   ATRIB_ORD_6__2   ATRIB_ORD_7__1  \n",
              "\n",
              "[5 rows x 119 columns]"
            ],
            "text/html": [
              "\n",
              "  <div id=\"df-c948840b-34ae-4d23-b9f7-73668ff0105a\">\n",
              "    <div class=\"colab-df-container\">\n",
              "      <div>\n",
              "<style scoped>\n",
              "    .dataframe tbody tr th:only-of-type {\n",
              "        vertical-align: middle;\n",
              "    }\n",
              "\n",
              "    .dataframe tbody tr th {\n",
              "        vertical-align: top;\n",
              "    }\n",
              "\n",
              "    .dataframe thead th {\n",
              "        text-align: right;\n",
              "    }\n",
              "</style>\n",
              "<table border=\"1\" class=\"dataframe\">\n",
              "  <thead>\n",
              "    <tr style=\"text-align: right;\">\n",
              "      <th></th>\n",
              "      <th>ESTADO_FINAL</th>\n",
              "      <th>ESTADO_FINAL.1</th>\n",
              "      <th>PRO_PROPUESTO</th>\n",
              "      <th>TIPO</th>\n",
              "      <th>PRODUCTO</th>\n",
              "      <th>FORMA</th>\n",
              "      <th>ATRIB_DIM_1</th>\n",
              "      <th>ATRIB_DIM_2</th>\n",
              "      <th>ATRIB_DIM_3</th>\n",
              "      <th>ATRIB_DIM_4</th>\n",
              "      <th>...</th>\n",
              "      <th>ATRIB_PRO_93</th>\n",
              "      <th>ATRIB_PRO_94</th>\n",
              "      <th>ATRIB_PRO_95</th>\n",
              "      <th>ATRIB_ORD_1</th>\n",
              "      <th>ATRIB_ORD_2</th>\n",
              "      <th>ATRIB_ORD_3</th>\n",
              "      <th>ATRIB_ORD_4</th>\n",
              "      <th>ATRIB_ORD_5</th>\n",
              "      <th>ATRIB_ORD_6</th>\n",
              "      <th>ATRIB_ORD_7</th>\n",
              "    </tr>\n",
              "  </thead>\n",
              "  <tbody>\n",
              "    <tr>\n",
              "      <th>9928</th>\n",
              "      <td>Cerrado - Factible</td>\n",
              "      <td>ESTADO_FINAL_3</td>\n",
              "      <td>PRO_PROPUESTO_1763</td>\n",
              "      <td>TIPO_3</td>\n",
              "      <td>PRODUCTO_5</td>\n",
              "      <td>FORMA_5</td>\n",
              "      <td>VACÍO</td>\n",
              "      <td>VACÍO</td>\n",
              "      <td>VACÍO</td>\n",
              "      <td>ATRIB_DIM_4__1686</td>\n",
              "      <td>...</td>\n",
              "      <td>VACÍO</td>\n",
              "      <td>ATRIB_PRO_94__27</td>\n",
              "      <td>ATRIB_PRO_95__41</td>\n",
              "      <td>ATRIB_ORD_1__589</td>\n",
              "      <td>VACÍO</td>\n",
              "      <td>VACÍO</td>\n",
              "      <td>ATRIB_ORD_4__121</td>\n",
              "      <td>VACÍO</td>\n",
              "      <td>ATRIB_ORD_6__14</td>\n",
              "      <td>ATRIB_ORD_7__83</td>\n",
              "    </tr>\n",
              "    <tr>\n",
              "      <th>8290</th>\n",
              "      <td>Cerrado - Factible</td>\n",
              "      <td>ESTADO_FINAL_3</td>\n",
              "      <td>PRO_PROPUESTO_77</td>\n",
              "      <td>TIPO_3</td>\n",
              "      <td>PRODUCTO_7</td>\n",
              "      <td>FORMA_14</td>\n",
              "      <td>VACÍO</td>\n",
              "      <td>VACÍO</td>\n",
              "      <td>VACÍO</td>\n",
              "      <td>ATRIB_DIM_4__1170</td>\n",
              "      <td>...</td>\n",
              "      <td>ATRIB_PRO_93__1</td>\n",
              "      <td>VACÍO</td>\n",
              "      <td>VACÍO</td>\n",
              "      <td>ATRIB_ORD_1__110</td>\n",
              "      <td>VACÍO</td>\n",
              "      <td>ATRIB_ORD_3__14</td>\n",
              "      <td>ATRIB_ORD_4__92</td>\n",
              "      <td>VACÍO</td>\n",
              "      <td>VACÍO</td>\n",
              "      <td>ATRIB_ORD_7__85</td>\n",
              "    </tr>\n",
              "    <tr>\n",
              "      <th>964</th>\n",
              "      <td>Cerrado - Factible</td>\n",
              "      <td>ESTADO_FINAL_3</td>\n",
              "      <td>VACÍO</td>\n",
              "      <td>TIPO_2</td>\n",
              "      <td>PRODUCTO_5</td>\n",
              "      <td>FORMA_5</td>\n",
              "      <td>VACÍO</td>\n",
              "      <td>VACÍO</td>\n",
              "      <td>VACÍO</td>\n",
              "      <td>ATRIB_DIM_4__1556</td>\n",
              "      <td>...</td>\n",
              "      <td>VACÍO</td>\n",
              "      <td>ATRIB_PRO_94__15</td>\n",
              "      <td>ATRIB_PRO_95__11</td>\n",
              "      <td>ATRIB_ORD_1__72</td>\n",
              "      <td>VACÍO</td>\n",
              "      <td>VACÍO</td>\n",
              "      <td>ATRIB_ORD_4__3</td>\n",
              "      <td>VACÍO</td>\n",
              "      <td>ATRIB_ORD_6__1</td>\n",
              "      <td>ATRIB_ORD_7__77</td>\n",
              "    </tr>\n",
              "    <tr>\n",
              "      <th>3198</th>\n",
              "      <td>Cerrado - Factible</td>\n",
              "      <td>ESTADO_FINAL_3</td>\n",
              "      <td>VACÍO</td>\n",
              "      <td>TIPO_1</td>\n",
              "      <td>PRODUCTO_5</td>\n",
              "      <td>FORMA_5</td>\n",
              "      <td>VACÍO</td>\n",
              "      <td>VACÍO</td>\n",
              "      <td>VACÍO</td>\n",
              "      <td>ATRIB_DIM_4__1441</td>\n",
              "      <td>...</td>\n",
              "      <td>VACÍO</td>\n",
              "      <td>ATRIB_PRO_94__31</td>\n",
              "      <td>ATRIB_PRO_95__10</td>\n",
              "      <td>ATRIB_ORD_1__95</td>\n",
              "      <td>VACÍO</td>\n",
              "      <td>VACÍO</td>\n",
              "      <td>ATRIB_ORD_4__200</td>\n",
              "      <td>VACÍO</td>\n",
              "      <td>ATRIB_ORD_6__27</td>\n",
              "      <td>ATRIB_ORD_7__22</td>\n",
              "    </tr>\n",
              "    <tr>\n",
              "      <th>396</th>\n",
              "      <td>Cerrado - Factible</td>\n",
              "      <td>ESTADO_FINAL_3</td>\n",
              "      <td>VACÍO</td>\n",
              "      <td>TIPO_2</td>\n",
              "      <td>PRODUCTO_5</td>\n",
              "      <td>FORMA_9</td>\n",
              "      <td>VACÍO</td>\n",
              "      <td>VACÍO</td>\n",
              "      <td>VACÍO</td>\n",
              "      <td>ATRIB_DIM_4__87</td>\n",
              "      <td>...</td>\n",
              "      <td>VACÍO</td>\n",
              "      <td>ATRIB_PRO_94__3</td>\n",
              "      <td>ATRIB_PRO_95__11</td>\n",
              "      <td>VACÍO</td>\n",
              "      <td>VACÍO</td>\n",
              "      <td>ATRIB_ORD_3__1</td>\n",
              "      <td>ATRIB_ORD_4__4</td>\n",
              "      <td>ATRIB_ORD_5__48</td>\n",
              "      <td>ATRIB_ORD_6__2</td>\n",
              "      <td>ATRIB_ORD_7__1</td>\n",
              "    </tr>\n",
              "  </tbody>\n",
              "</table>\n",
              "<p>5 rows × 119 columns</p>\n",
              "</div>\n",
              "      <button class=\"colab-df-convert\" onclick=\"convertToInteractive('df-c948840b-34ae-4d23-b9f7-73668ff0105a')\"\n",
              "              title=\"Convert this dataframe to an interactive table.\"\n",
              "              style=\"display:none;\">\n",
              "        \n",
              "  <svg xmlns=\"http://www.w3.org/2000/svg\" height=\"24px\"viewBox=\"0 0 24 24\"\n",
              "       width=\"24px\">\n",
              "    <path d=\"M0 0h24v24H0V0z\" fill=\"none\"/>\n",
              "    <path d=\"M18.56 5.44l.94 2.06.94-2.06 2.06-.94-2.06-.94-.94-2.06-.94 2.06-2.06.94zm-11 1L8.5 8.5l.94-2.06 2.06-.94-2.06-.94L8.5 2.5l-.94 2.06-2.06.94zm10 10l.94 2.06.94-2.06 2.06-.94-2.06-.94-.94-2.06-.94 2.06-2.06.94z\"/><path d=\"M17.41 7.96l-1.37-1.37c-.4-.4-.92-.59-1.43-.59-.52 0-1.04.2-1.43.59L10.3 9.45l-7.72 7.72c-.78.78-.78 2.05 0 2.83L4 21.41c.39.39.9.59 1.41.59.51 0 1.02-.2 1.41-.59l7.78-7.78 2.81-2.81c.8-.78.8-2.07 0-2.86zM5.41 20L4 18.59l7.72-7.72 1.47 1.35L5.41 20z\"/>\n",
              "  </svg>\n",
              "      </button>\n",
              "      \n",
              "  <style>\n",
              "    .colab-df-container {\n",
              "      display:flex;\n",
              "      flex-wrap:wrap;\n",
              "      gap: 12px;\n",
              "    }\n",
              "\n",
              "    .colab-df-convert {\n",
              "      background-color: #E8F0FE;\n",
              "      border: none;\n",
              "      border-radius: 50%;\n",
              "      cursor: pointer;\n",
              "      display: none;\n",
              "      fill: #1967D2;\n",
              "      height: 32px;\n",
              "      padding: 0 0 0 0;\n",
              "      width: 32px;\n",
              "    }\n",
              "\n",
              "    .colab-df-convert:hover {\n",
              "      background-color: #E2EBFA;\n",
              "      box-shadow: 0px 1px 2px rgba(60, 64, 67, 0.3), 0px 1px 3px 1px rgba(60, 64, 67, 0.15);\n",
              "      fill: #174EA6;\n",
              "    }\n",
              "\n",
              "    [theme=dark] .colab-df-convert {\n",
              "      background-color: #3B4455;\n",
              "      fill: #D2E3FC;\n",
              "    }\n",
              "\n",
              "    [theme=dark] .colab-df-convert:hover {\n",
              "      background-color: #434B5C;\n",
              "      box-shadow: 0px 1px 3px 1px rgba(0, 0, 0, 0.15);\n",
              "      filter: drop-shadow(0px 1px 2px rgba(0, 0, 0, 0.3));\n",
              "      fill: #FFFFFF;\n",
              "    }\n",
              "  </style>\n",
              "\n",
              "      <script>\n",
              "        const buttonEl =\n",
              "          document.querySelector('#df-c948840b-34ae-4d23-b9f7-73668ff0105a button.colab-df-convert');\n",
              "        buttonEl.style.display =\n",
              "          google.colab.kernel.accessAllowed ? 'block' : 'none';\n",
              "\n",
              "        async function convertToInteractive(key) {\n",
              "          const element = document.querySelector('#df-c948840b-34ae-4d23-b9f7-73668ff0105a');\n",
              "          const dataTable =\n",
              "            await google.colab.kernel.invokeFunction('convertToInteractive',\n",
              "                                                     [key], {});\n",
              "          if (!dataTable) return;\n",
              "\n",
              "          const docLinkHtml = 'Like what you see? Visit the ' +\n",
              "            '<a target=\"_blank\" href=https://colab.research.google.com/notebooks/data_table.ipynb>data table notebook</a>'\n",
              "            + ' to learn more about interactive tables.';\n",
              "          element.innerHTML = '';\n",
              "          dataTable['output_type'] = 'display_data';\n",
              "          await google.colab.output.renderOutput(dataTable, element);\n",
              "          const docLink = document.createElement('div');\n",
              "          docLink.innerHTML = docLinkHtml;\n",
              "          element.appendChild(docLink);\n",
              "        }\n",
              "      </script>\n",
              "    </div>\n",
              "  </div>\n",
              "  "
            ]
          },
          "metadata": {},
          "execution_count": 21
        }
      ],
      "source": [
        "df.head()"
      ]
    },
    {
      "cell_type": "code",
      "execution_count": 22,
      "metadata": {
        "id": "znhOXtCwkbjH",
        "outputId": "7fc7fc27-2789-4d8a-e973-9a324dd97ae4",
        "colab": {
          "base_uri": "https://localhost:8080/"
        }
      },
      "outputs": [
        {
          "output_type": "execute_result",
          "data": {
            "text/plain": [
              "array(['Cerrado - Factible', 'Cerrado - No Factible',\n",
              "       'Cerrado - Desarrollo Producto', 'Cancelado'], dtype=object)"
            ]
          },
          "metadata": {},
          "execution_count": 22
        }
      ],
      "source": [
        "df['ESTADO_FINAL'].unique()"
      ]
    },
    {
      "cell_type": "code",
      "execution_count": 23,
      "metadata": {
        "id": "D_CFPd2BkbjH"
      },
      "outputs": [],
      "source": [
        "df[['ESTADO_TRATO','ESTADO_PRODUCTO']] = df['ESTADO_FINAL'].str.split('-',expand=True)"
      ]
    },
    {
      "cell_type": "code",
      "execution_count": 24,
      "metadata": {
        "id": "d8-hlaOvkbjH",
        "outputId": "9c1b8256-0400-455e-ab22-cf70f30a522f",
        "colab": {
          "base_uri": "https://localhost:8080/",
          "height": 240
        }
      },
      "outputs": [
        {
          "output_type": "execute_result",
          "data": {
            "text/plain": [
              "            ESTADO_FINAL  ESTADO_FINAL.1       PRO_PROPUESTO    TIPO  \\\n",
              "9928  Cerrado - Factible  ESTADO_FINAL_3  PRO_PROPUESTO_1763  TIPO_3   \n",
              "8290  Cerrado - Factible  ESTADO_FINAL_3    PRO_PROPUESTO_77  TIPO_3   \n",
              "\n",
              "        PRODUCTO     FORMA ATRIB_DIM_1 ATRIB_DIM_2 ATRIB_DIM_3  \\\n",
              "9928  PRODUCTO_5   FORMA_5       VACÍO       VACÍO       VACÍO   \n",
              "8290  PRODUCTO_7  FORMA_14       VACÍO       VACÍO       VACÍO   \n",
              "\n",
              "            ATRIB_DIM_4  ...      ATRIB_PRO_95       ATRIB_ORD_1 ATRIB_ORD_2  \\\n",
              "9928  ATRIB_DIM_4__1686  ...  ATRIB_PRO_95__41  ATRIB_ORD_1__589       VACÍO   \n",
              "8290  ATRIB_DIM_4__1170  ...             VACÍO  ATRIB_ORD_1__110       VACÍO   \n",
              "\n",
              "          ATRIB_ORD_3       ATRIB_ORD_4 ATRIB_ORD_5      ATRIB_ORD_6  \\\n",
              "9928            VACÍO  ATRIB_ORD_4__121       VACÍO  ATRIB_ORD_6__14   \n",
              "8290  ATRIB_ORD_3__14   ATRIB_ORD_4__92       VACÍO            VACÍO   \n",
              "\n",
              "          ATRIB_ORD_7 ESTADO_TRATO ESTADO_PRODUCTO  \n",
              "9928  ATRIB_ORD_7__83     Cerrado         Factible  \n",
              "8290  ATRIB_ORD_7__85     Cerrado         Factible  \n",
              "\n",
              "[2 rows x 121 columns]"
            ],
            "text/html": [
              "\n",
              "  <div id=\"df-70664696-aaf3-4db6-b3ed-3f3d245e56e7\">\n",
              "    <div class=\"colab-df-container\">\n",
              "      <div>\n",
              "<style scoped>\n",
              "    .dataframe tbody tr th:only-of-type {\n",
              "        vertical-align: middle;\n",
              "    }\n",
              "\n",
              "    .dataframe tbody tr th {\n",
              "        vertical-align: top;\n",
              "    }\n",
              "\n",
              "    .dataframe thead th {\n",
              "        text-align: right;\n",
              "    }\n",
              "</style>\n",
              "<table border=\"1\" class=\"dataframe\">\n",
              "  <thead>\n",
              "    <tr style=\"text-align: right;\">\n",
              "      <th></th>\n",
              "      <th>ESTADO_FINAL</th>\n",
              "      <th>ESTADO_FINAL.1</th>\n",
              "      <th>PRO_PROPUESTO</th>\n",
              "      <th>TIPO</th>\n",
              "      <th>PRODUCTO</th>\n",
              "      <th>FORMA</th>\n",
              "      <th>ATRIB_DIM_1</th>\n",
              "      <th>ATRIB_DIM_2</th>\n",
              "      <th>ATRIB_DIM_3</th>\n",
              "      <th>ATRIB_DIM_4</th>\n",
              "      <th>...</th>\n",
              "      <th>ATRIB_PRO_95</th>\n",
              "      <th>ATRIB_ORD_1</th>\n",
              "      <th>ATRIB_ORD_2</th>\n",
              "      <th>ATRIB_ORD_3</th>\n",
              "      <th>ATRIB_ORD_4</th>\n",
              "      <th>ATRIB_ORD_5</th>\n",
              "      <th>ATRIB_ORD_6</th>\n",
              "      <th>ATRIB_ORD_7</th>\n",
              "      <th>ESTADO_TRATO</th>\n",
              "      <th>ESTADO_PRODUCTO</th>\n",
              "    </tr>\n",
              "  </thead>\n",
              "  <tbody>\n",
              "    <tr>\n",
              "      <th>9928</th>\n",
              "      <td>Cerrado - Factible</td>\n",
              "      <td>ESTADO_FINAL_3</td>\n",
              "      <td>PRO_PROPUESTO_1763</td>\n",
              "      <td>TIPO_3</td>\n",
              "      <td>PRODUCTO_5</td>\n",
              "      <td>FORMA_5</td>\n",
              "      <td>VACÍO</td>\n",
              "      <td>VACÍO</td>\n",
              "      <td>VACÍO</td>\n",
              "      <td>ATRIB_DIM_4__1686</td>\n",
              "      <td>...</td>\n",
              "      <td>ATRIB_PRO_95__41</td>\n",
              "      <td>ATRIB_ORD_1__589</td>\n",
              "      <td>VACÍO</td>\n",
              "      <td>VACÍO</td>\n",
              "      <td>ATRIB_ORD_4__121</td>\n",
              "      <td>VACÍO</td>\n",
              "      <td>ATRIB_ORD_6__14</td>\n",
              "      <td>ATRIB_ORD_7__83</td>\n",
              "      <td>Cerrado</td>\n",
              "      <td>Factible</td>\n",
              "    </tr>\n",
              "    <tr>\n",
              "      <th>8290</th>\n",
              "      <td>Cerrado - Factible</td>\n",
              "      <td>ESTADO_FINAL_3</td>\n",
              "      <td>PRO_PROPUESTO_77</td>\n",
              "      <td>TIPO_3</td>\n",
              "      <td>PRODUCTO_7</td>\n",
              "      <td>FORMA_14</td>\n",
              "      <td>VACÍO</td>\n",
              "      <td>VACÍO</td>\n",
              "      <td>VACÍO</td>\n",
              "      <td>ATRIB_DIM_4__1170</td>\n",
              "      <td>...</td>\n",
              "      <td>VACÍO</td>\n",
              "      <td>ATRIB_ORD_1__110</td>\n",
              "      <td>VACÍO</td>\n",
              "      <td>ATRIB_ORD_3__14</td>\n",
              "      <td>ATRIB_ORD_4__92</td>\n",
              "      <td>VACÍO</td>\n",
              "      <td>VACÍO</td>\n",
              "      <td>ATRIB_ORD_7__85</td>\n",
              "      <td>Cerrado</td>\n",
              "      <td>Factible</td>\n",
              "    </tr>\n",
              "  </tbody>\n",
              "</table>\n",
              "<p>2 rows × 121 columns</p>\n",
              "</div>\n",
              "      <button class=\"colab-df-convert\" onclick=\"convertToInteractive('df-70664696-aaf3-4db6-b3ed-3f3d245e56e7')\"\n",
              "              title=\"Convert this dataframe to an interactive table.\"\n",
              "              style=\"display:none;\">\n",
              "        \n",
              "  <svg xmlns=\"http://www.w3.org/2000/svg\" height=\"24px\"viewBox=\"0 0 24 24\"\n",
              "       width=\"24px\">\n",
              "    <path d=\"M0 0h24v24H0V0z\" fill=\"none\"/>\n",
              "    <path d=\"M18.56 5.44l.94 2.06.94-2.06 2.06-.94-2.06-.94-.94-2.06-.94 2.06-2.06.94zm-11 1L8.5 8.5l.94-2.06 2.06-.94-2.06-.94L8.5 2.5l-.94 2.06-2.06.94zm10 10l.94 2.06.94-2.06 2.06-.94-2.06-.94-.94-2.06-.94 2.06-2.06.94z\"/><path d=\"M17.41 7.96l-1.37-1.37c-.4-.4-.92-.59-1.43-.59-.52 0-1.04.2-1.43.59L10.3 9.45l-7.72 7.72c-.78.78-.78 2.05 0 2.83L4 21.41c.39.39.9.59 1.41.59.51 0 1.02-.2 1.41-.59l7.78-7.78 2.81-2.81c.8-.78.8-2.07 0-2.86zM5.41 20L4 18.59l7.72-7.72 1.47 1.35L5.41 20z\"/>\n",
              "  </svg>\n",
              "      </button>\n",
              "      \n",
              "  <style>\n",
              "    .colab-df-container {\n",
              "      display:flex;\n",
              "      flex-wrap:wrap;\n",
              "      gap: 12px;\n",
              "    }\n",
              "\n",
              "    .colab-df-convert {\n",
              "      background-color: #E8F0FE;\n",
              "      border: none;\n",
              "      border-radius: 50%;\n",
              "      cursor: pointer;\n",
              "      display: none;\n",
              "      fill: #1967D2;\n",
              "      height: 32px;\n",
              "      padding: 0 0 0 0;\n",
              "      width: 32px;\n",
              "    }\n",
              "\n",
              "    .colab-df-convert:hover {\n",
              "      background-color: #E2EBFA;\n",
              "      box-shadow: 0px 1px 2px rgba(60, 64, 67, 0.3), 0px 1px 3px 1px rgba(60, 64, 67, 0.15);\n",
              "      fill: #174EA6;\n",
              "    }\n",
              "\n",
              "    [theme=dark] .colab-df-convert {\n",
              "      background-color: #3B4455;\n",
              "      fill: #D2E3FC;\n",
              "    }\n",
              "\n",
              "    [theme=dark] .colab-df-convert:hover {\n",
              "      background-color: #434B5C;\n",
              "      box-shadow: 0px 1px 3px 1px rgba(0, 0, 0, 0.15);\n",
              "      filter: drop-shadow(0px 1px 2px rgba(0, 0, 0, 0.3));\n",
              "      fill: #FFFFFF;\n",
              "    }\n",
              "  </style>\n",
              "\n",
              "      <script>\n",
              "        const buttonEl =\n",
              "          document.querySelector('#df-70664696-aaf3-4db6-b3ed-3f3d245e56e7 button.colab-df-convert');\n",
              "        buttonEl.style.display =\n",
              "          google.colab.kernel.accessAllowed ? 'block' : 'none';\n",
              "\n",
              "        async function convertToInteractive(key) {\n",
              "          const element = document.querySelector('#df-70664696-aaf3-4db6-b3ed-3f3d245e56e7');\n",
              "          const dataTable =\n",
              "            await google.colab.kernel.invokeFunction('convertToInteractive',\n",
              "                                                     [key], {});\n",
              "          if (!dataTable) return;\n",
              "\n",
              "          const docLinkHtml = 'Like what you see? Visit the ' +\n",
              "            '<a target=\"_blank\" href=https://colab.research.google.com/notebooks/data_table.ipynb>data table notebook</a>'\n",
              "            + ' to learn more about interactive tables.';\n",
              "          element.innerHTML = '';\n",
              "          dataTable['output_type'] = 'display_data';\n",
              "          await google.colab.output.renderOutput(dataTable, element);\n",
              "          const docLink = document.createElement('div');\n",
              "          docLink.innerHTML = docLinkHtml;\n",
              "          element.appendChild(docLink);\n",
              "        }\n",
              "      </script>\n",
              "    </div>\n",
              "  </div>\n",
              "  "
            ]
          },
          "metadata": {},
          "execution_count": 24
        }
      ],
      "source": [
        "df.head(2)"
      ]
    },
    {
      "cell_type": "code",
      "execution_count": 25,
      "metadata": {
        "id": "PHtEZ2AWkbjI",
        "outputId": "047991e7-1911-42e6-eb58-55aad51806ff",
        "colab": {
          "base_uri": "https://localhost:8080/",
          "height": 240
        }
      },
      "outputs": [
        {
          "output_type": "execute_result",
          "data": {
            "text/plain": [
              "            ESTADO_FINAL  ESTADO_FINAL.1       PRO_PROPUESTO    TIPO  \\\n",
              "9928  Cerrado - Factible  ESTADO_FINAL_3  PRO_PROPUESTO_1763  TIPO_3   \n",
              "8290  Cerrado - Factible  ESTADO_FINAL_3    PRO_PROPUESTO_77  TIPO_3   \n",
              "\n",
              "        PRODUCTO     FORMA ATRIB_DIM_1 ATRIB_DIM_2 ATRIB_DIM_3  \\\n",
              "9928  PRODUCTO_5   FORMA_5       VACÍO       VACÍO       VACÍO   \n",
              "8290  PRODUCTO_7  FORMA_14       VACÍO       VACÍO       VACÍO   \n",
              "\n",
              "            ATRIB_DIM_4  ...      ATRIB_PRO_95       ATRIB_ORD_1 ATRIB_ORD_2  \\\n",
              "9928  ATRIB_DIM_4__1686  ...  ATRIB_PRO_95__41  ATRIB_ORD_1__589       VACÍO   \n",
              "8290  ATRIB_DIM_4__1170  ...             VACÍO  ATRIB_ORD_1__110       VACÍO   \n",
              "\n",
              "          ATRIB_ORD_3       ATRIB_ORD_4 ATRIB_ORD_5      ATRIB_ORD_6  \\\n",
              "9928            VACÍO  ATRIB_ORD_4__121       VACÍO  ATRIB_ORD_6__14   \n",
              "8290  ATRIB_ORD_3__14   ATRIB_ORD_4__92       VACÍO            VACÍO   \n",
              "\n",
              "          ATRIB_ORD_7 ESTADO_TRATO ESTADO_PRODUCTO  \n",
              "9928  ATRIB_ORD_7__83     Cerrado         Factible  \n",
              "8290  ATRIB_ORD_7__85     Cerrado         Factible  \n",
              "\n",
              "[2 rows x 121 columns]"
            ],
            "text/html": [
              "\n",
              "  <div id=\"df-91f792de-5392-4b8f-9e07-bf0be1335345\">\n",
              "    <div class=\"colab-df-container\">\n",
              "      <div>\n",
              "<style scoped>\n",
              "    .dataframe tbody tr th:only-of-type {\n",
              "        vertical-align: middle;\n",
              "    }\n",
              "\n",
              "    .dataframe tbody tr th {\n",
              "        vertical-align: top;\n",
              "    }\n",
              "\n",
              "    .dataframe thead th {\n",
              "        text-align: right;\n",
              "    }\n",
              "</style>\n",
              "<table border=\"1\" class=\"dataframe\">\n",
              "  <thead>\n",
              "    <tr style=\"text-align: right;\">\n",
              "      <th></th>\n",
              "      <th>ESTADO_FINAL</th>\n",
              "      <th>ESTADO_FINAL.1</th>\n",
              "      <th>PRO_PROPUESTO</th>\n",
              "      <th>TIPO</th>\n",
              "      <th>PRODUCTO</th>\n",
              "      <th>FORMA</th>\n",
              "      <th>ATRIB_DIM_1</th>\n",
              "      <th>ATRIB_DIM_2</th>\n",
              "      <th>ATRIB_DIM_3</th>\n",
              "      <th>ATRIB_DIM_4</th>\n",
              "      <th>...</th>\n",
              "      <th>ATRIB_PRO_95</th>\n",
              "      <th>ATRIB_ORD_1</th>\n",
              "      <th>ATRIB_ORD_2</th>\n",
              "      <th>ATRIB_ORD_3</th>\n",
              "      <th>ATRIB_ORD_4</th>\n",
              "      <th>ATRIB_ORD_5</th>\n",
              "      <th>ATRIB_ORD_6</th>\n",
              "      <th>ATRIB_ORD_7</th>\n",
              "      <th>ESTADO_TRATO</th>\n",
              "      <th>ESTADO_PRODUCTO</th>\n",
              "    </tr>\n",
              "  </thead>\n",
              "  <tbody>\n",
              "    <tr>\n",
              "      <th>9928</th>\n",
              "      <td>Cerrado - Factible</td>\n",
              "      <td>ESTADO_FINAL_3</td>\n",
              "      <td>PRO_PROPUESTO_1763</td>\n",
              "      <td>TIPO_3</td>\n",
              "      <td>PRODUCTO_5</td>\n",
              "      <td>FORMA_5</td>\n",
              "      <td>VACÍO</td>\n",
              "      <td>VACÍO</td>\n",
              "      <td>VACÍO</td>\n",
              "      <td>ATRIB_DIM_4__1686</td>\n",
              "      <td>...</td>\n",
              "      <td>ATRIB_PRO_95__41</td>\n",
              "      <td>ATRIB_ORD_1__589</td>\n",
              "      <td>VACÍO</td>\n",
              "      <td>VACÍO</td>\n",
              "      <td>ATRIB_ORD_4__121</td>\n",
              "      <td>VACÍO</td>\n",
              "      <td>ATRIB_ORD_6__14</td>\n",
              "      <td>ATRIB_ORD_7__83</td>\n",
              "      <td>Cerrado</td>\n",
              "      <td>Factible</td>\n",
              "    </tr>\n",
              "    <tr>\n",
              "      <th>8290</th>\n",
              "      <td>Cerrado - Factible</td>\n",
              "      <td>ESTADO_FINAL_3</td>\n",
              "      <td>PRO_PROPUESTO_77</td>\n",
              "      <td>TIPO_3</td>\n",
              "      <td>PRODUCTO_7</td>\n",
              "      <td>FORMA_14</td>\n",
              "      <td>VACÍO</td>\n",
              "      <td>VACÍO</td>\n",
              "      <td>VACÍO</td>\n",
              "      <td>ATRIB_DIM_4__1170</td>\n",
              "      <td>...</td>\n",
              "      <td>VACÍO</td>\n",
              "      <td>ATRIB_ORD_1__110</td>\n",
              "      <td>VACÍO</td>\n",
              "      <td>ATRIB_ORD_3__14</td>\n",
              "      <td>ATRIB_ORD_4__92</td>\n",
              "      <td>VACÍO</td>\n",
              "      <td>VACÍO</td>\n",
              "      <td>ATRIB_ORD_7__85</td>\n",
              "      <td>Cerrado</td>\n",
              "      <td>Factible</td>\n",
              "    </tr>\n",
              "  </tbody>\n",
              "</table>\n",
              "<p>2 rows × 121 columns</p>\n",
              "</div>\n",
              "      <button class=\"colab-df-convert\" onclick=\"convertToInteractive('df-91f792de-5392-4b8f-9e07-bf0be1335345')\"\n",
              "              title=\"Convert this dataframe to an interactive table.\"\n",
              "              style=\"display:none;\">\n",
              "        \n",
              "  <svg xmlns=\"http://www.w3.org/2000/svg\" height=\"24px\"viewBox=\"0 0 24 24\"\n",
              "       width=\"24px\">\n",
              "    <path d=\"M0 0h24v24H0V0z\" fill=\"none\"/>\n",
              "    <path d=\"M18.56 5.44l.94 2.06.94-2.06 2.06-.94-2.06-.94-.94-2.06-.94 2.06-2.06.94zm-11 1L8.5 8.5l.94-2.06 2.06-.94-2.06-.94L8.5 2.5l-.94 2.06-2.06.94zm10 10l.94 2.06.94-2.06 2.06-.94-2.06-.94-.94-2.06-.94 2.06-2.06.94z\"/><path d=\"M17.41 7.96l-1.37-1.37c-.4-.4-.92-.59-1.43-.59-.52 0-1.04.2-1.43.59L10.3 9.45l-7.72 7.72c-.78.78-.78 2.05 0 2.83L4 21.41c.39.39.9.59 1.41.59.51 0 1.02-.2 1.41-.59l7.78-7.78 2.81-2.81c.8-.78.8-2.07 0-2.86zM5.41 20L4 18.59l7.72-7.72 1.47 1.35L5.41 20z\"/>\n",
              "  </svg>\n",
              "      </button>\n",
              "      \n",
              "  <style>\n",
              "    .colab-df-container {\n",
              "      display:flex;\n",
              "      flex-wrap:wrap;\n",
              "      gap: 12px;\n",
              "    }\n",
              "\n",
              "    .colab-df-convert {\n",
              "      background-color: #E8F0FE;\n",
              "      border: none;\n",
              "      border-radius: 50%;\n",
              "      cursor: pointer;\n",
              "      display: none;\n",
              "      fill: #1967D2;\n",
              "      height: 32px;\n",
              "      padding: 0 0 0 0;\n",
              "      width: 32px;\n",
              "    }\n",
              "\n",
              "    .colab-df-convert:hover {\n",
              "      background-color: #E2EBFA;\n",
              "      box-shadow: 0px 1px 2px rgba(60, 64, 67, 0.3), 0px 1px 3px 1px rgba(60, 64, 67, 0.15);\n",
              "      fill: #174EA6;\n",
              "    }\n",
              "\n",
              "    [theme=dark] .colab-df-convert {\n",
              "      background-color: #3B4455;\n",
              "      fill: #D2E3FC;\n",
              "    }\n",
              "\n",
              "    [theme=dark] .colab-df-convert:hover {\n",
              "      background-color: #434B5C;\n",
              "      box-shadow: 0px 1px 3px 1px rgba(0, 0, 0, 0.15);\n",
              "      filter: drop-shadow(0px 1px 2px rgba(0, 0, 0, 0.3));\n",
              "      fill: #FFFFFF;\n",
              "    }\n",
              "  </style>\n",
              "\n",
              "      <script>\n",
              "        const buttonEl =\n",
              "          document.querySelector('#df-91f792de-5392-4b8f-9e07-bf0be1335345 button.colab-df-convert');\n",
              "        buttonEl.style.display =\n",
              "          google.colab.kernel.accessAllowed ? 'block' : 'none';\n",
              "\n",
              "        async function convertToInteractive(key) {\n",
              "          const element = document.querySelector('#df-91f792de-5392-4b8f-9e07-bf0be1335345');\n",
              "          const dataTable =\n",
              "            await google.colab.kernel.invokeFunction('convertToInteractive',\n",
              "                                                     [key], {});\n",
              "          if (!dataTable) return;\n",
              "\n",
              "          const docLinkHtml = 'Like what you see? Visit the ' +\n",
              "            '<a target=\"_blank\" href=https://colab.research.google.com/notebooks/data_table.ipynb>data table notebook</a>'\n",
              "            + ' to learn more about interactive tables.';\n",
              "          element.innerHTML = '';\n",
              "          dataTable['output_type'] = 'display_data';\n",
              "          await google.colab.output.renderOutput(dataTable, element);\n",
              "          const docLink = document.createElement('div');\n",
              "          docLink.innerHTML = docLinkHtml;\n",
              "          element.appendChild(docLink);\n",
              "        }\n",
              "      </script>\n",
              "    </div>\n",
              "  </div>\n",
              "  "
            ]
          },
          "metadata": {},
          "execution_count": 25
        }
      ],
      "source": [
        "x = df.copy()\n",
        "y = df.copy()\n",
        "x.head(2)"
      ]
    },
    {
      "cell_type": "markdown",
      "metadata": {
        "id": "p3aQtDiPkbjI"
      },
      "source": [
        "## Limpieza V2"
      ]
    },
    {
      "cell_type": "code",
      "execution_count": 26,
      "metadata": {
        "id": "pFPyEbzDkbjI",
        "outputId": "f6eb5b24-d66e-4549-b714-7ba7fe00adde",
        "colab": {
          "base_uri": "https://localhost:8080/",
          "height": 240
        }
      },
      "outputs": [
        {
          "output_type": "execute_result",
          "data": {
            "text/plain": [
              "            ESTADO_FINAL  ESTADO_FINAL.1       PRO_PROPUESTO    TIPO  \\\n",
              "9928  Cerrado - Factible  ESTADO_FINAL_3  PRO_PROPUESTO_1763  TIPO_3   \n",
              "8290  Cerrado - Factible  ESTADO_FINAL_3    PRO_PROPUESTO_77  TIPO_3   \n",
              "\n",
              "        PRODUCTO     FORMA ATRIB_DIM_1 ATRIB_DIM_2 ATRIB_DIM_3  \\\n",
              "9928  PRODUCTO_5   FORMA_5       VACÍO       VACÍO       VACÍO   \n",
              "8290  PRODUCTO_7  FORMA_14       VACÍO       VACÍO       VACÍO   \n",
              "\n",
              "            ATRIB_DIM_4  ...      ATRIB_PRO_95       ATRIB_ORD_1 ATRIB_ORD_2  \\\n",
              "9928  ATRIB_DIM_4__1686  ...  ATRIB_PRO_95__41  ATRIB_ORD_1__589       VACÍO   \n",
              "8290  ATRIB_DIM_4__1170  ...             VACÍO  ATRIB_ORD_1__110       VACÍO   \n",
              "\n",
              "          ATRIB_ORD_3       ATRIB_ORD_4 ATRIB_ORD_5      ATRIB_ORD_6  \\\n",
              "9928            VACÍO  ATRIB_ORD_4__121       VACÍO  ATRIB_ORD_6__14   \n",
              "8290  ATRIB_ORD_3__14   ATRIB_ORD_4__92       VACÍO            VACÍO   \n",
              "\n",
              "          ATRIB_ORD_7 ESTADO_TRATO ESTADO_PRODUCTO  \n",
              "9928  ATRIB_ORD_7__83     Cerrado         Factible  \n",
              "8290  ATRIB_ORD_7__85     Cerrado         Factible  \n",
              "\n",
              "[2 rows x 121 columns]"
            ],
            "text/html": [
              "\n",
              "  <div id=\"df-3d421fad-43d2-4cb1-af4b-50756af50250\">\n",
              "    <div class=\"colab-df-container\">\n",
              "      <div>\n",
              "<style scoped>\n",
              "    .dataframe tbody tr th:only-of-type {\n",
              "        vertical-align: middle;\n",
              "    }\n",
              "\n",
              "    .dataframe tbody tr th {\n",
              "        vertical-align: top;\n",
              "    }\n",
              "\n",
              "    .dataframe thead th {\n",
              "        text-align: right;\n",
              "    }\n",
              "</style>\n",
              "<table border=\"1\" class=\"dataframe\">\n",
              "  <thead>\n",
              "    <tr style=\"text-align: right;\">\n",
              "      <th></th>\n",
              "      <th>ESTADO_FINAL</th>\n",
              "      <th>ESTADO_FINAL.1</th>\n",
              "      <th>PRO_PROPUESTO</th>\n",
              "      <th>TIPO</th>\n",
              "      <th>PRODUCTO</th>\n",
              "      <th>FORMA</th>\n",
              "      <th>ATRIB_DIM_1</th>\n",
              "      <th>ATRIB_DIM_2</th>\n",
              "      <th>ATRIB_DIM_3</th>\n",
              "      <th>ATRIB_DIM_4</th>\n",
              "      <th>...</th>\n",
              "      <th>ATRIB_PRO_95</th>\n",
              "      <th>ATRIB_ORD_1</th>\n",
              "      <th>ATRIB_ORD_2</th>\n",
              "      <th>ATRIB_ORD_3</th>\n",
              "      <th>ATRIB_ORD_4</th>\n",
              "      <th>ATRIB_ORD_5</th>\n",
              "      <th>ATRIB_ORD_6</th>\n",
              "      <th>ATRIB_ORD_7</th>\n",
              "      <th>ESTADO_TRATO</th>\n",
              "      <th>ESTADO_PRODUCTO</th>\n",
              "    </tr>\n",
              "  </thead>\n",
              "  <tbody>\n",
              "    <tr>\n",
              "      <th>9928</th>\n",
              "      <td>Cerrado - Factible</td>\n",
              "      <td>ESTADO_FINAL_3</td>\n",
              "      <td>PRO_PROPUESTO_1763</td>\n",
              "      <td>TIPO_3</td>\n",
              "      <td>PRODUCTO_5</td>\n",
              "      <td>FORMA_5</td>\n",
              "      <td>VACÍO</td>\n",
              "      <td>VACÍO</td>\n",
              "      <td>VACÍO</td>\n",
              "      <td>ATRIB_DIM_4__1686</td>\n",
              "      <td>...</td>\n",
              "      <td>ATRIB_PRO_95__41</td>\n",
              "      <td>ATRIB_ORD_1__589</td>\n",
              "      <td>VACÍO</td>\n",
              "      <td>VACÍO</td>\n",
              "      <td>ATRIB_ORD_4__121</td>\n",
              "      <td>VACÍO</td>\n",
              "      <td>ATRIB_ORD_6__14</td>\n",
              "      <td>ATRIB_ORD_7__83</td>\n",
              "      <td>Cerrado</td>\n",
              "      <td>Factible</td>\n",
              "    </tr>\n",
              "    <tr>\n",
              "      <th>8290</th>\n",
              "      <td>Cerrado - Factible</td>\n",
              "      <td>ESTADO_FINAL_3</td>\n",
              "      <td>PRO_PROPUESTO_77</td>\n",
              "      <td>TIPO_3</td>\n",
              "      <td>PRODUCTO_7</td>\n",
              "      <td>FORMA_14</td>\n",
              "      <td>VACÍO</td>\n",
              "      <td>VACÍO</td>\n",
              "      <td>VACÍO</td>\n",
              "      <td>ATRIB_DIM_4__1170</td>\n",
              "      <td>...</td>\n",
              "      <td>VACÍO</td>\n",
              "      <td>ATRIB_ORD_1__110</td>\n",
              "      <td>VACÍO</td>\n",
              "      <td>ATRIB_ORD_3__14</td>\n",
              "      <td>ATRIB_ORD_4__92</td>\n",
              "      <td>VACÍO</td>\n",
              "      <td>VACÍO</td>\n",
              "      <td>ATRIB_ORD_7__85</td>\n",
              "      <td>Cerrado</td>\n",
              "      <td>Factible</td>\n",
              "    </tr>\n",
              "  </tbody>\n",
              "</table>\n",
              "<p>2 rows × 121 columns</p>\n",
              "</div>\n",
              "      <button class=\"colab-df-convert\" onclick=\"convertToInteractive('df-3d421fad-43d2-4cb1-af4b-50756af50250')\"\n",
              "              title=\"Convert this dataframe to an interactive table.\"\n",
              "              style=\"display:none;\">\n",
              "        \n",
              "  <svg xmlns=\"http://www.w3.org/2000/svg\" height=\"24px\"viewBox=\"0 0 24 24\"\n",
              "       width=\"24px\">\n",
              "    <path d=\"M0 0h24v24H0V0z\" fill=\"none\"/>\n",
              "    <path d=\"M18.56 5.44l.94 2.06.94-2.06 2.06-.94-2.06-.94-.94-2.06-.94 2.06-2.06.94zm-11 1L8.5 8.5l.94-2.06 2.06-.94-2.06-.94L8.5 2.5l-.94 2.06-2.06.94zm10 10l.94 2.06.94-2.06 2.06-.94-2.06-.94-.94-2.06-.94 2.06-2.06.94z\"/><path d=\"M17.41 7.96l-1.37-1.37c-.4-.4-.92-.59-1.43-.59-.52 0-1.04.2-1.43.59L10.3 9.45l-7.72 7.72c-.78.78-.78 2.05 0 2.83L4 21.41c.39.39.9.59 1.41.59.51 0 1.02-.2 1.41-.59l7.78-7.78 2.81-2.81c.8-.78.8-2.07 0-2.86zM5.41 20L4 18.59l7.72-7.72 1.47 1.35L5.41 20z\"/>\n",
              "  </svg>\n",
              "      </button>\n",
              "      \n",
              "  <style>\n",
              "    .colab-df-container {\n",
              "      display:flex;\n",
              "      flex-wrap:wrap;\n",
              "      gap: 12px;\n",
              "    }\n",
              "\n",
              "    .colab-df-convert {\n",
              "      background-color: #E8F0FE;\n",
              "      border: none;\n",
              "      border-radius: 50%;\n",
              "      cursor: pointer;\n",
              "      display: none;\n",
              "      fill: #1967D2;\n",
              "      height: 32px;\n",
              "      padding: 0 0 0 0;\n",
              "      width: 32px;\n",
              "    }\n",
              "\n",
              "    .colab-df-convert:hover {\n",
              "      background-color: #E2EBFA;\n",
              "      box-shadow: 0px 1px 2px rgba(60, 64, 67, 0.3), 0px 1px 3px 1px rgba(60, 64, 67, 0.15);\n",
              "      fill: #174EA6;\n",
              "    }\n",
              "\n",
              "    [theme=dark] .colab-df-convert {\n",
              "      background-color: #3B4455;\n",
              "      fill: #D2E3FC;\n",
              "    }\n",
              "\n",
              "    [theme=dark] .colab-df-convert:hover {\n",
              "      background-color: #434B5C;\n",
              "      box-shadow: 0px 1px 3px 1px rgba(0, 0, 0, 0.15);\n",
              "      filter: drop-shadow(0px 1px 2px rgba(0, 0, 0, 0.3));\n",
              "      fill: #FFFFFF;\n",
              "    }\n",
              "  </style>\n",
              "\n",
              "      <script>\n",
              "        const buttonEl =\n",
              "          document.querySelector('#df-3d421fad-43d2-4cb1-af4b-50756af50250 button.colab-df-convert');\n",
              "        buttonEl.style.display =\n",
              "          google.colab.kernel.accessAllowed ? 'block' : 'none';\n",
              "\n",
              "        async function convertToInteractive(key) {\n",
              "          const element = document.querySelector('#df-3d421fad-43d2-4cb1-af4b-50756af50250');\n",
              "          const dataTable =\n",
              "            await google.colab.kernel.invokeFunction('convertToInteractive',\n",
              "                                                     [key], {});\n",
              "          if (!dataTable) return;\n",
              "\n",
              "          const docLinkHtml = 'Like what you see? Visit the ' +\n",
              "            '<a target=\"_blank\" href=https://colab.research.google.com/notebooks/data_table.ipynb>data table notebook</a>'\n",
              "            + ' to learn more about interactive tables.';\n",
              "          element.innerHTML = '';\n",
              "          dataTable['output_type'] = 'display_data';\n",
              "          await google.colab.output.renderOutput(dataTable, element);\n",
              "          const docLink = document.createElement('div');\n",
              "          docLink.innerHTML = docLinkHtml;\n",
              "          element.appendChild(docLink);\n",
              "        }\n",
              "      </script>\n",
              "    </div>\n",
              "  </div>\n",
              "  "
            ]
          },
          "metadata": {},
          "execution_count": 26
        }
      ],
      "source": [
        "df.head(2)"
      ]
    },
    {
      "cell_type": "markdown",
      "metadata": {
        "id": "dRrgHE_6kbjJ"
      },
      "source": [
        "Con la siguiente función separamos los valores por el delimitador \"_\" y remplazamos la columna por el ultimo numeró, eso con la intención de ver unicamente el \"material\" seleccinado por la columna.\n",
        "\n",
        "Este paso fue un paso extra ya que realmente solo se representa variables cualitativas dentro del modelo."
      ]
    },
    {
      "cell_type": "code",
      "execution_count": 27,
      "metadata": {
        "id": "ScWsTxLvkbjJ"
      },
      "outputs": [],
      "source": [
        "def div(x):\n",
        "    z = x.str.split('_', expand=True)\n",
        "    z = pd.DataFrame(z)\n",
        "    z = z[max]\n",
        "    return z"
      ]
    },
    {
      "cell_type": "code",
      "execution_count": 28,
      "metadata": {
        "id": "VM_NjhsvkbjJ"
      },
      "outputs": [],
      "source": [
        "#https://www.geeksforgeeks.org/how-to-apply-a-function-to-multiple-columns-in-pandas/\n",
        "df2 = df.apply(div)"
      ]
    },
    {
      "cell_type": "code",
      "execution_count": 29,
      "metadata": {
        "id": "sFu4_5UZkbjJ",
        "outputId": "25eb524a-a7f1-45be-dffa-8a10449ddfd6",
        "colab": {
          "base_uri": "https://localhost:8080/",
          "height": 240
        }
      },
      "outputs": [
        {
          "output_type": "execute_result",
          "data": {
            "text/plain": [
              "            ESTADO_FINAL ESTADO_FINAL.1 PRO_PROPUESTO TIPO PRODUCTO FORMA  \\\n",
              "9928  Cerrado - Factible              3          1763    3        5     5   \n",
              "8290  Cerrado - Factible              3            77    3        7    14   \n",
              "\n",
              "     ATRIB_DIM_1 ATRIB_DIM_2 ATRIB_DIM_3 ATRIB_DIM_4  ... ATRIB_PRO_95  \\\n",
              "9928        None        None        None        1686  ...           41   \n",
              "8290        None        None        None        1170  ...         None   \n",
              "\n",
              "     ATRIB_ORD_1 ATRIB_ORD_2 ATRIB_ORD_3 ATRIB_ORD_4 ATRIB_ORD_5 ATRIB_ORD_6  \\\n",
              "9928         589        None        None         121        None          14   \n",
              "8290         110        None          14          92        None        None   \n",
              "\n",
              "     ATRIB_ORD_7 ESTADO_TRATO ESTADO_PRODUCTO  \n",
              "9928          83     Cerrado         Factible  \n",
              "8290          85     Cerrado         Factible  \n",
              "\n",
              "[2 rows x 121 columns]"
            ],
            "text/html": [
              "\n",
              "  <div id=\"df-34e27f1e-0cd3-429e-bb99-f7cf145d78b9\">\n",
              "    <div class=\"colab-df-container\">\n",
              "      <div>\n",
              "<style scoped>\n",
              "    .dataframe tbody tr th:only-of-type {\n",
              "        vertical-align: middle;\n",
              "    }\n",
              "\n",
              "    .dataframe tbody tr th {\n",
              "        vertical-align: top;\n",
              "    }\n",
              "\n",
              "    .dataframe thead th {\n",
              "        text-align: right;\n",
              "    }\n",
              "</style>\n",
              "<table border=\"1\" class=\"dataframe\">\n",
              "  <thead>\n",
              "    <tr style=\"text-align: right;\">\n",
              "      <th></th>\n",
              "      <th>ESTADO_FINAL</th>\n",
              "      <th>ESTADO_FINAL.1</th>\n",
              "      <th>PRO_PROPUESTO</th>\n",
              "      <th>TIPO</th>\n",
              "      <th>PRODUCTO</th>\n",
              "      <th>FORMA</th>\n",
              "      <th>ATRIB_DIM_1</th>\n",
              "      <th>ATRIB_DIM_2</th>\n",
              "      <th>ATRIB_DIM_3</th>\n",
              "      <th>ATRIB_DIM_4</th>\n",
              "      <th>...</th>\n",
              "      <th>ATRIB_PRO_95</th>\n",
              "      <th>ATRIB_ORD_1</th>\n",
              "      <th>ATRIB_ORD_2</th>\n",
              "      <th>ATRIB_ORD_3</th>\n",
              "      <th>ATRIB_ORD_4</th>\n",
              "      <th>ATRIB_ORD_5</th>\n",
              "      <th>ATRIB_ORD_6</th>\n",
              "      <th>ATRIB_ORD_7</th>\n",
              "      <th>ESTADO_TRATO</th>\n",
              "      <th>ESTADO_PRODUCTO</th>\n",
              "    </tr>\n",
              "  </thead>\n",
              "  <tbody>\n",
              "    <tr>\n",
              "      <th>9928</th>\n",
              "      <td>Cerrado - Factible</td>\n",
              "      <td>3</td>\n",
              "      <td>1763</td>\n",
              "      <td>3</td>\n",
              "      <td>5</td>\n",
              "      <td>5</td>\n",
              "      <td>None</td>\n",
              "      <td>None</td>\n",
              "      <td>None</td>\n",
              "      <td>1686</td>\n",
              "      <td>...</td>\n",
              "      <td>41</td>\n",
              "      <td>589</td>\n",
              "      <td>None</td>\n",
              "      <td>None</td>\n",
              "      <td>121</td>\n",
              "      <td>None</td>\n",
              "      <td>14</td>\n",
              "      <td>83</td>\n",
              "      <td>Cerrado</td>\n",
              "      <td>Factible</td>\n",
              "    </tr>\n",
              "    <tr>\n",
              "      <th>8290</th>\n",
              "      <td>Cerrado - Factible</td>\n",
              "      <td>3</td>\n",
              "      <td>77</td>\n",
              "      <td>3</td>\n",
              "      <td>7</td>\n",
              "      <td>14</td>\n",
              "      <td>None</td>\n",
              "      <td>None</td>\n",
              "      <td>None</td>\n",
              "      <td>1170</td>\n",
              "      <td>...</td>\n",
              "      <td>None</td>\n",
              "      <td>110</td>\n",
              "      <td>None</td>\n",
              "      <td>14</td>\n",
              "      <td>92</td>\n",
              "      <td>None</td>\n",
              "      <td>None</td>\n",
              "      <td>85</td>\n",
              "      <td>Cerrado</td>\n",
              "      <td>Factible</td>\n",
              "    </tr>\n",
              "  </tbody>\n",
              "</table>\n",
              "<p>2 rows × 121 columns</p>\n",
              "</div>\n",
              "      <button class=\"colab-df-convert\" onclick=\"convertToInteractive('df-34e27f1e-0cd3-429e-bb99-f7cf145d78b9')\"\n",
              "              title=\"Convert this dataframe to an interactive table.\"\n",
              "              style=\"display:none;\">\n",
              "        \n",
              "  <svg xmlns=\"http://www.w3.org/2000/svg\" height=\"24px\"viewBox=\"0 0 24 24\"\n",
              "       width=\"24px\">\n",
              "    <path d=\"M0 0h24v24H0V0z\" fill=\"none\"/>\n",
              "    <path d=\"M18.56 5.44l.94 2.06.94-2.06 2.06-.94-2.06-.94-.94-2.06-.94 2.06-2.06.94zm-11 1L8.5 8.5l.94-2.06 2.06-.94-2.06-.94L8.5 2.5l-.94 2.06-2.06.94zm10 10l.94 2.06.94-2.06 2.06-.94-2.06-.94-.94-2.06-.94 2.06-2.06.94z\"/><path d=\"M17.41 7.96l-1.37-1.37c-.4-.4-.92-.59-1.43-.59-.52 0-1.04.2-1.43.59L10.3 9.45l-7.72 7.72c-.78.78-.78 2.05 0 2.83L4 21.41c.39.39.9.59 1.41.59.51 0 1.02-.2 1.41-.59l7.78-7.78 2.81-2.81c.8-.78.8-2.07 0-2.86zM5.41 20L4 18.59l7.72-7.72 1.47 1.35L5.41 20z\"/>\n",
              "  </svg>\n",
              "      </button>\n",
              "      \n",
              "  <style>\n",
              "    .colab-df-container {\n",
              "      display:flex;\n",
              "      flex-wrap:wrap;\n",
              "      gap: 12px;\n",
              "    }\n",
              "\n",
              "    .colab-df-convert {\n",
              "      background-color: #E8F0FE;\n",
              "      border: none;\n",
              "      border-radius: 50%;\n",
              "      cursor: pointer;\n",
              "      display: none;\n",
              "      fill: #1967D2;\n",
              "      height: 32px;\n",
              "      padding: 0 0 0 0;\n",
              "      width: 32px;\n",
              "    }\n",
              "\n",
              "    .colab-df-convert:hover {\n",
              "      background-color: #E2EBFA;\n",
              "      box-shadow: 0px 1px 2px rgba(60, 64, 67, 0.3), 0px 1px 3px 1px rgba(60, 64, 67, 0.15);\n",
              "      fill: #174EA6;\n",
              "    }\n",
              "\n",
              "    [theme=dark] .colab-df-convert {\n",
              "      background-color: #3B4455;\n",
              "      fill: #D2E3FC;\n",
              "    }\n",
              "\n",
              "    [theme=dark] .colab-df-convert:hover {\n",
              "      background-color: #434B5C;\n",
              "      box-shadow: 0px 1px 3px 1px rgba(0, 0, 0, 0.15);\n",
              "      filter: drop-shadow(0px 1px 2px rgba(0, 0, 0, 0.3));\n",
              "      fill: #FFFFFF;\n",
              "    }\n",
              "  </style>\n",
              "\n",
              "      <script>\n",
              "        const buttonEl =\n",
              "          document.querySelector('#df-34e27f1e-0cd3-429e-bb99-f7cf145d78b9 button.colab-df-convert');\n",
              "        buttonEl.style.display =\n",
              "          google.colab.kernel.accessAllowed ? 'block' : 'none';\n",
              "\n",
              "        async function convertToInteractive(key) {\n",
              "          const element = document.querySelector('#df-34e27f1e-0cd3-429e-bb99-f7cf145d78b9');\n",
              "          const dataTable =\n",
              "            await google.colab.kernel.invokeFunction('convertToInteractive',\n",
              "                                                     [key], {});\n",
              "          if (!dataTable) return;\n",
              "\n",
              "          const docLinkHtml = 'Like what you see? Visit the ' +\n",
              "            '<a target=\"_blank\" href=https://colab.research.google.com/notebooks/data_table.ipynb>data table notebook</a>'\n",
              "            + ' to learn more about interactive tables.';\n",
              "          element.innerHTML = '';\n",
              "          dataTable['output_type'] = 'display_data';\n",
              "          await google.colab.output.renderOutput(dataTable, element);\n",
              "          const docLink = document.createElement('div');\n",
              "          docLink.innerHTML = docLinkHtml;\n",
              "          element.appendChild(docLink);\n",
              "        }\n",
              "      </script>\n",
              "    </div>\n",
              "  </div>\n",
              "  "
            ]
          },
          "metadata": {},
          "execution_count": 29
        }
      ],
      "source": [
        "df2.head(2)"
      ]
    },
    {
      "cell_type": "markdown",
      "metadata": {
        "id": "cdmbR5tWkbjK"
      },
      "source": [
        "Una vez que limpiezamos los datos, volveremos a remplazar los valores de \"None\" por los valores pasados de \"VACIO\". Como no había datos nulos dentro del dataframe previamente, se remplazaron todos los nulos con el VACIO"
      ]
    },
    {
      "cell_type": "code",
      "execution_count": 30,
      "metadata": {
        "id": "eie3S_XXkbjK",
        "outputId": "a9cd7674-147e-4ff4-bbb8-901122611c1e",
        "colab": {
          "base_uri": "https://localhost:8080/"
        }
      },
      "outputs": [
        {
          "output_type": "execute_result",
          "data": {
            "text/plain": [
              "1000"
            ]
          },
          "metadata": {},
          "execution_count": 30
        }
      ],
      "source": [
        "len(df2)"
      ]
    },
    {
      "cell_type": "code",
      "execution_count": 31,
      "metadata": {
        "id": "gevAhPlGkbjK",
        "outputId": "10e542a6-3587-419a-da71-1e1a70fc0de8",
        "colab": {
          "base_uri": "https://localhost:8080/"
        }
      },
      "outputs": [
        {
          "output_type": "execute_result",
          "data": {
            "text/plain": [
              "ESTADO_FINAL         0\n",
              "ESTADO_FINAL.1       0\n",
              "PRO_PROPUESTO      552\n",
              "TIPO                 0\n",
              "PRODUCTO             0\n",
              "                  ... \n",
              "ATRIB_ORD_5        848\n",
              "ATRIB_ORD_6        780\n",
              "ATRIB_ORD_7        212\n",
              "ESTADO_TRATO         0\n",
              "ESTADO_PRODUCTO     36\n",
              "Length: 121, dtype: int64"
            ]
          },
          "metadata": {},
          "execution_count": 31
        }
      ],
      "source": [
        "df2.isna().sum()"
      ]
    },
    {
      "cell_type": "code",
      "execution_count": 32,
      "metadata": {
        "id": "9T6ichHckbjK"
      },
      "outputs": [],
      "source": [
        "df2 = df2.fillna('VACIO')"
      ]
    },
    {
      "cell_type": "markdown",
      "metadata": {
        "id": "me_pS7TckbjK"
      },
      "source": [
        "Eliminamos los espacios vacios dentro del DF"
      ]
    },
    {
      "cell_type": "code",
      "execution_count": 33,
      "metadata": {
        "id": "nQyy2AookbjL"
      },
      "outputs": [],
      "source": [
        "df2 = df2.replace(' ','')"
      ]
    },
    {
      "cell_type": "markdown",
      "metadata": {
        "id": "GVAYdFBHkbjL"
      },
      "source": [
        "## Exploración rapida de datos "
      ]
    },
    {
      "cell_type": "markdown",
      "metadata": {
        "id": "jR8zSVhMkbjL"
      },
      "source": [
        "Una vez que ya realizamos la limpieza de datos, empezaremos una exploración de datos para comprender aún más la mecanica del dataframe.\n",
        "Las preguntas principales son:\n",
        "- Hay dependencias dentro de las formas y materiales ? Es decir, si es forma 5 no es posible contar con los X atributos de X?\n",
        "- Cual es el porcentaje de proyectos exitosos \n",
        "- Que atrbituos son los más solicitados \n",
        "- Como podemos realizar el modelo de ML para clasificar si es factible o no con tantas variables cualitativas"
      ]
    },
    {
      "cell_type": "code",
      "execution_count": 34,
      "metadata": {
        "id": "lvQ2azB2kbjL",
        "outputId": "17b00d69-b8eb-4389-a710-a9bfa3115e6e",
        "colab": {
          "base_uri": "https://localhost:8080/"
        }
      },
      "outputs": [
        {
          "output_type": "execute_result",
          "data": {
            "text/plain": [
              "array([' Factible', ' No Factible', ' Desarrollo Producto', 'VACIO'],\n",
              "      dtype=object)"
            ]
          },
          "metadata": {},
          "execution_count": 34
        }
      ],
      "source": [
        "df2['ESTADO_PRODUCTO'].unique()"
      ]
    },
    {
      "cell_type": "code",
      "execution_count": 35,
      "metadata": {
        "id": "Gvj5gMhnkbjL",
        "outputId": "d4714cfe-8c75-4476-9480-9e82eed87089",
        "colab": {
          "base_uri": "https://localhost:8080/",
          "height": 307
        }
      },
      "outputs": [
        {
          "output_type": "stream",
          "name": "stdout",
          "text": [
            "El 66.2 % son proyectos factibles\n"
          ]
        },
        {
          "output_type": "execute_result",
          "data": {
            "text/plain": [
              "            ESTADO_FINAL ESTADO_FINAL.1 PRO_PROPUESTO TIPO PRODUCTO FORMA  \\\n",
              "9928  Cerrado - Factible              3          1763    3        5     5   \n",
              "8290  Cerrado - Factible              3            77    3        7    14   \n",
              "964   Cerrado - Factible              3         VACIO    2        5     5   \n",
              "\n",
              "     ATRIB_DIM_1 ATRIB_DIM_2 ATRIB_DIM_3 ATRIB_DIM_4  ... ATRIB_PRO_95  \\\n",
              "9928       VACIO       VACIO       VACIO        1686  ...           41   \n",
              "8290       VACIO       VACIO       VACIO        1170  ...        VACIO   \n",
              "964        VACIO       VACIO       VACIO        1556  ...           11   \n",
              "\n",
              "     ATRIB_ORD_1 ATRIB_ORD_2 ATRIB_ORD_3 ATRIB_ORD_4 ATRIB_ORD_5 ATRIB_ORD_6  \\\n",
              "9928         589       VACIO       VACIO         121       VACIO          14   \n",
              "8290         110       VACIO          14          92       VACIO       VACIO   \n",
              "964           72       VACIO       VACIO           3       VACIO           1   \n",
              "\n",
              "     ATRIB_ORD_7 ESTADO_TRATO ESTADO_PRODUCTO  \n",
              "9928          83     Cerrado         Factible  \n",
              "8290          85     Cerrado         Factible  \n",
              "964           77     Cerrado         Factible  \n",
              "\n",
              "[3 rows x 121 columns]"
            ],
            "text/html": [
              "\n",
              "  <div id=\"df-a9075b48-2bd8-4c65-8cc8-70a29c4dd24c\">\n",
              "    <div class=\"colab-df-container\">\n",
              "      <div>\n",
              "<style scoped>\n",
              "    .dataframe tbody tr th:only-of-type {\n",
              "        vertical-align: middle;\n",
              "    }\n",
              "\n",
              "    .dataframe tbody tr th {\n",
              "        vertical-align: top;\n",
              "    }\n",
              "\n",
              "    .dataframe thead th {\n",
              "        text-align: right;\n",
              "    }\n",
              "</style>\n",
              "<table border=\"1\" class=\"dataframe\">\n",
              "  <thead>\n",
              "    <tr style=\"text-align: right;\">\n",
              "      <th></th>\n",
              "      <th>ESTADO_FINAL</th>\n",
              "      <th>ESTADO_FINAL.1</th>\n",
              "      <th>PRO_PROPUESTO</th>\n",
              "      <th>TIPO</th>\n",
              "      <th>PRODUCTO</th>\n",
              "      <th>FORMA</th>\n",
              "      <th>ATRIB_DIM_1</th>\n",
              "      <th>ATRIB_DIM_2</th>\n",
              "      <th>ATRIB_DIM_3</th>\n",
              "      <th>ATRIB_DIM_4</th>\n",
              "      <th>...</th>\n",
              "      <th>ATRIB_PRO_95</th>\n",
              "      <th>ATRIB_ORD_1</th>\n",
              "      <th>ATRIB_ORD_2</th>\n",
              "      <th>ATRIB_ORD_3</th>\n",
              "      <th>ATRIB_ORD_4</th>\n",
              "      <th>ATRIB_ORD_5</th>\n",
              "      <th>ATRIB_ORD_6</th>\n",
              "      <th>ATRIB_ORD_7</th>\n",
              "      <th>ESTADO_TRATO</th>\n",
              "      <th>ESTADO_PRODUCTO</th>\n",
              "    </tr>\n",
              "  </thead>\n",
              "  <tbody>\n",
              "    <tr>\n",
              "      <th>9928</th>\n",
              "      <td>Cerrado - Factible</td>\n",
              "      <td>3</td>\n",
              "      <td>1763</td>\n",
              "      <td>3</td>\n",
              "      <td>5</td>\n",
              "      <td>5</td>\n",
              "      <td>VACIO</td>\n",
              "      <td>VACIO</td>\n",
              "      <td>VACIO</td>\n",
              "      <td>1686</td>\n",
              "      <td>...</td>\n",
              "      <td>41</td>\n",
              "      <td>589</td>\n",
              "      <td>VACIO</td>\n",
              "      <td>VACIO</td>\n",
              "      <td>121</td>\n",
              "      <td>VACIO</td>\n",
              "      <td>14</td>\n",
              "      <td>83</td>\n",
              "      <td>Cerrado</td>\n",
              "      <td>Factible</td>\n",
              "    </tr>\n",
              "    <tr>\n",
              "      <th>8290</th>\n",
              "      <td>Cerrado - Factible</td>\n",
              "      <td>3</td>\n",
              "      <td>77</td>\n",
              "      <td>3</td>\n",
              "      <td>7</td>\n",
              "      <td>14</td>\n",
              "      <td>VACIO</td>\n",
              "      <td>VACIO</td>\n",
              "      <td>VACIO</td>\n",
              "      <td>1170</td>\n",
              "      <td>...</td>\n",
              "      <td>VACIO</td>\n",
              "      <td>110</td>\n",
              "      <td>VACIO</td>\n",
              "      <td>14</td>\n",
              "      <td>92</td>\n",
              "      <td>VACIO</td>\n",
              "      <td>VACIO</td>\n",
              "      <td>85</td>\n",
              "      <td>Cerrado</td>\n",
              "      <td>Factible</td>\n",
              "    </tr>\n",
              "    <tr>\n",
              "      <th>964</th>\n",
              "      <td>Cerrado - Factible</td>\n",
              "      <td>3</td>\n",
              "      <td>VACIO</td>\n",
              "      <td>2</td>\n",
              "      <td>5</td>\n",
              "      <td>5</td>\n",
              "      <td>VACIO</td>\n",
              "      <td>VACIO</td>\n",
              "      <td>VACIO</td>\n",
              "      <td>1556</td>\n",
              "      <td>...</td>\n",
              "      <td>11</td>\n",
              "      <td>72</td>\n",
              "      <td>VACIO</td>\n",
              "      <td>VACIO</td>\n",
              "      <td>3</td>\n",
              "      <td>VACIO</td>\n",
              "      <td>1</td>\n",
              "      <td>77</td>\n",
              "      <td>Cerrado</td>\n",
              "      <td>Factible</td>\n",
              "    </tr>\n",
              "  </tbody>\n",
              "</table>\n",
              "<p>3 rows × 121 columns</p>\n",
              "</div>\n",
              "      <button class=\"colab-df-convert\" onclick=\"convertToInteractive('df-a9075b48-2bd8-4c65-8cc8-70a29c4dd24c')\"\n",
              "              title=\"Convert this dataframe to an interactive table.\"\n",
              "              style=\"display:none;\">\n",
              "        \n",
              "  <svg xmlns=\"http://www.w3.org/2000/svg\" height=\"24px\"viewBox=\"0 0 24 24\"\n",
              "       width=\"24px\">\n",
              "    <path d=\"M0 0h24v24H0V0z\" fill=\"none\"/>\n",
              "    <path d=\"M18.56 5.44l.94 2.06.94-2.06 2.06-.94-2.06-.94-.94-2.06-.94 2.06-2.06.94zm-11 1L8.5 8.5l.94-2.06 2.06-.94-2.06-.94L8.5 2.5l-.94 2.06-2.06.94zm10 10l.94 2.06.94-2.06 2.06-.94-2.06-.94-.94-2.06-.94 2.06-2.06.94z\"/><path d=\"M17.41 7.96l-1.37-1.37c-.4-.4-.92-.59-1.43-.59-.52 0-1.04.2-1.43.59L10.3 9.45l-7.72 7.72c-.78.78-.78 2.05 0 2.83L4 21.41c.39.39.9.59 1.41.59.51 0 1.02-.2 1.41-.59l7.78-7.78 2.81-2.81c.8-.78.8-2.07 0-2.86zM5.41 20L4 18.59l7.72-7.72 1.47 1.35L5.41 20z\"/>\n",
              "  </svg>\n",
              "      </button>\n",
              "      \n",
              "  <style>\n",
              "    .colab-df-container {\n",
              "      display:flex;\n",
              "      flex-wrap:wrap;\n",
              "      gap: 12px;\n",
              "    }\n",
              "\n",
              "    .colab-df-convert {\n",
              "      background-color: #E8F0FE;\n",
              "      border: none;\n",
              "      border-radius: 50%;\n",
              "      cursor: pointer;\n",
              "      display: none;\n",
              "      fill: #1967D2;\n",
              "      height: 32px;\n",
              "      padding: 0 0 0 0;\n",
              "      width: 32px;\n",
              "    }\n",
              "\n",
              "    .colab-df-convert:hover {\n",
              "      background-color: #E2EBFA;\n",
              "      box-shadow: 0px 1px 2px rgba(60, 64, 67, 0.3), 0px 1px 3px 1px rgba(60, 64, 67, 0.15);\n",
              "      fill: #174EA6;\n",
              "    }\n",
              "\n",
              "    [theme=dark] .colab-df-convert {\n",
              "      background-color: #3B4455;\n",
              "      fill: #D2E3FC;\n",
              "    }\n",
              "\n",
              "    [theme=dark] .colab-df-convert:hover {\n",
              "      background-color: #434B5C;\n",
              "      box-shadow: 0px 1px 3px 1px rgba(0, 0, 0, 0.15);\n",
              "      filter: drop-shadow(0px 1px 2px rgba(0, 0, 0, 0.3));\n",
              "      fill: #FFFFFF;\n",
              "    }\n",
              "  </style>\n",
              "\n",
              "      <script>\n",
              "        const buttonEl =\n",
              "          document.querySelector('#df-a9075b48-2bd8-4c65-8cc8-70a29c4dd24c button.colab-df-convert');\n",
              "        buttonEl.style.display =\n",
              "          google.colab.kernel.accessAllowed ? 'block' : 'none';\n",
              "\n",
              "        async function convertToInteractive(key) {\n",
              "          const element = document.querySelector('#df-a9075b48-2bd8-4c65-8cc8-70a29c4dd24c');\n",
              "          const dataTable =\n",
              "            await google.colab.kernel.invokeFunction('convertToInteractive',\n",
              "                                                     [key], {});\n",
              "          if (!dataTable) return;\n",
              "\n",
              "          const docLinkHtml = 'Like what you see? Visit the ' +\n",
              "            '<a target=\"_blank\" href=https://colab.research.google.com/notebooks/data_table.ipynb>data table notebook</a>'\n",
              "            + ' to learn more about interactive tables.';\n",
              "          element.innerHTML = '';\n",
              "          dataTable['output_type'] = 'display_data';\n",
              "          await google.colab.output.renderOutput(dataTable, element);\n",
              "          const docLink = document.createElement('div');\n",
              "          docLink.innerHTML = docLinkHtml;\n",
              "          element.appendChild(docLink);\n",
              "        }\n",
              "      </script>\n",
              "    </div>\n",
              "  </div>\n",
              "  "
            ]
          },
          "metadata": {},
          "execution_count": 35
        }
      ],
      "source": [
        "print('El', len(df[df2['ESTADO_PRODUCTO']==' Factible'])/len(df2)*100, '% son proyectos factibles')\n",
        "df2[df2['ESTADO_PRODUCTO']==' Factible'].head(3)"
      ]
    },
    {
      "cell_type": "code",
      "execution_count": 36,
      "metadata": {
        "id": "JW9cQTqSkbjL",
        "outputId": "da8963fb-ed2c-4dfa-a2bb-20c5b2d38b3d",
        "colab": {
          "base_uri": "https://localhost:8080/"
        }
      },
      "outputs": [
        {
          "output_type": "stream",
          "name": "stdout",
          "text": [
            "cantidad de proyectos propuestos: 346\n"
          ]
        }
      ],
      "source": [
        "print('cantidad de proyectos propuestos:', len(df2['PRO_PROPUESTO'].unique()))"
      ]
    },
    {
      "cell_type": "markdown",
      "metadata": {
        "id": "swvk39aVkbjL"
      },
      "source": [
        "Ahora calcularemos la cantidad de veces que cada proyecto ha sido solicitado dentro de las diversas solicitudes"
      ]
    },
    {
      "cell_type": "code",
      "execution_count": 37,
      "metadata": {
        "id": "6Rx2YjhakbjM"
      },
      "outputs": [],
      "source": [
        "Proyectos = df2['PRO_PROPUESTO'].value_counts()"
      ]
    },
    {
      "cell_type": "code",
      "execution_count": 38,
      "metadata": {
        "id": "0wqgXW-xkbjM",
        "outputId": "fb1ae7e0-f372-4785-90a5-de638dfcf01c",
        "colab": {
          "base_uri": "https://localhost:8080/"
        }
      },
      "outputs": [
        {
          "output_type": "execute_result",
          "data": {
            "text/plain": [
              "VACIO    552\n",
              "1412       7\n",
              "1340       7\n",
              "Name: PRO_PROPUESTO, dtype: int64"
            ]
          },
          "metadata": {},
          "execution_count": 38
        }
      ],
      "source": [
        "#Podemos ver la cantidad más alta de veces que el proyecto se ha solicitado han sido de 7 veces\n",
        "Proyectos.head(3)"
      ]
    },
    {
      "cell_type": "markdown",
      "metadata": {
        "id": "KYtL-LCVkbjM"
      },
      "source": [
        "## Sistema de recomendaciones"
      ]
    },
    {
      "cell_type": "markdown",
      "metadata": {
        "id": "asRcOZqBkbjM"
      },
      "source": [
        "Con la información de veces solicitados por proyecto podemos ocupar esta variable de solicitudes como \"ratings\" para seguir la logica de un algortimo de content filtering. Por lo tanto el paso siguiente sería codificar las variables para poder evaluar su valor dentro de estás solicitudes"
      ]
    },
    {
      "cell_type": "markdown",
      "metadata": {
        "id": "GRzFD3qikbjM"
      },
      "source": [
        "Primero pensamos en el numero de recomendaciones que tiene cada producto"
      ]
    },
    {
      "cell_type": "code",
      "execution_count": 39,
      "metadata": {
        "id": "3YNxtQwgkbjN",
        "outputId": "ee1075d8-7710-4bc2-f534-ddf7ef153324",
        "colab": {
          "base_uri": "https://localhost:8080/"
        }
      },
      "outputs": [
        {
          "output_type": "execute_result",
          "data": {
            "text/plain": [
              "VACIO    552\n",
              "1412       7\n",
              "1340       7\n",
              "672        6\n",
              "671        6\n",
              "        ... \n",
              "774        1\n",
              "320        1\n",
              "376        1\n",
              "564        1\n",
              "87         1\n",
              "Name: PRO_PROPUESTO, Length: 346, dtype: int64"
            ]
          },
          "metadata": {},
          "execution_count": 39
        }
      ],
      "source": [
        "Proyectos"
      ]
    },
    {
      "cell_type": "markdown",
      "source": [
        "#Medidas de Tendencia "
      ],
      "metadata": {
        "id": "nsjfWX8TP-Fo"
      }
    },
    {
      "cell_type": "code",
      "source": [
        "st.mean(df2)"
      ],
      "metadata": {
        "colab": {
          "base_uri": "https://localhost:8080/",
          "height": 318
        },
        "id": "7ki3lrjxP9J8",
        "outputId": "27c60248-2e84-4663-bc41-b40ffa01ca2c"
      },
      "execution_count": 40,
      "outputs": [
        {
          "output_type": "error",
          "ename": "TypeError",
          "evalue": "ignored",
          "traceback": [
            "\u001b[0;31m---------------------------------------------------------------------------\u001b[0m",
            "\u001b[0;31mTypeError\u001b[0m                                 Traceback (most recent call last)",
            "\u001b[0;32m<ipython-input-40-fdba4f690753>\u001b[0m in \u001b[0;36m<module>\u001b[0;34m\u001b[0m\n\u001b[0;32m----> 1\u001b[0;31m \u001b[0mst\u001b[0m\u001b[0;34m.\u001b[0m\u001b[0mmean\u001b[0m\u001b[0;34m(\u001b[0m\u001b[0mdf2\u001b[0m\u001b[0;34m)\u001b[0m\u001b[0;34m\u001b[0m\u001b[0;34m\u001b[0m\u001b[0m\n\u001b[0m",
            "\u001b[0;32m/usr/lib/python3.7/statistics.py\u001b[0m in \u001b[0;36mmean\u001b[0;34m(data)\u001b[0m\n\u001b[1;32m    309\u001b[0m     \u001b[0;32mif\u001b[0m \u001b[0mn\u001b[0m \u001b[0;34m<\u001b[0m \u001b[0;36m1\u001b[0m\u001b[0;34m:\u001b[0m\u001b[0;34m\u001b[0m\u001b[0;34m\u001b[0m\u001b[0m\n\u001b[1;32m    310\u001b[0m         \u001b[0;32mraise\u001b[0m \u001b[0mStatisticsError\u001b[0m\u001b[0;34m(\u001b[0m\u001b[0;34m'mean requires at least one data point'\u001b[0m\u001b[0;34m)\u001b[0m\u001b[0;34m\u001b[0m\u001b[0;34m\u001b[0m\u001b[0m\n\u001b[0;32m--> 311\u001b[0;31m     \u001b[0mT\u001b[0m\u001b[0;34m,\u001b[0m \u001b[0mtotal\u001b[0m\u001b[0;34m,\u001b[0m \u001b[0mcount\u001b[0m \u001b[0;34m=\u001b[0m \u001b[0m_sum\u001b[0m\u001b[0;34m(\u001b[0m\u001b[0mdata\u001b[0m\u001b[0;34m)\u001b[0m\u001b[0;34m\u001b[0m\u001b[0;34m\u001b[0m\u001b[0m\n\u001b[0m\u001b[1;32m    312\u001b[0m     \u001b[0;32massert\u001b[0m \u001b[0mcount\u001b[0m \u001b[0;34m==\u001b[0m \u001b[0mn\u001b[0m\u001b[0;34m\u001b[0m\u001b[0;34m\u001b[0m\u001b[0m\n\u001b[1;32m    313\u001b[0m     \u001b[0;32mreturn\u001b[0m \u001b[0m_convert\u001b[0m\u001b[0;34m(\u001b[0m\u001b[0mtotal\u001b[0m\u001b[0;34m/\u001b[0m\u001b[0mn\u001b[0m\u001b[0;34m,\u001b[0m \u001b[0mT\u001b[0m\u001b[0;34m)\u001b[0m\u001b[0;34m\u001b[0m\u001b[0;34m\u001b[0m\u001b[0m\n",
            "\u001b[0;32m/usr/lib/python3.7/statistics.py\u001b[0m in \u001b[0;36m_sum\u001b[0;34m(data, start)\u001b[0m\n\u001b[1;32m    145\u001b[0m     \u001b[0;32mfor\u001b[0m \u001b[0mtyp\u001b[0m\u001b[0;34m,\u001b[0m \u001b[0mvalues\u001b[0m \u001b[0;32min\u001b[0m \u001b[0mgroupby\u001b[0m\u001b[0;34m(\u001b[0m\u001b[0mdata\u001b[0m\u001b[0;34m,\u001b[0m \u001b[0mtype\u001b[0m\u001b[0;34m)\u001b[0m\u001b[0;34m:\u001b[0m\u001b[0;34m\u001b[0m\u001b[0;34m\u001b[0m\u001b[0m\n\u001b[1;32m    146\u001b[0m         \u001b[0mT\u001b[0m \u001b[0;34m=\u001b[0m \u001b[0m_coerce\u001b[0m\u001b[0;34m(\u001b[0m\u001b[0mT\u001b[0m\u001b[0;34m,\u001b[0m \u001b[0mtyp\u001b[0m\u001b[0;34m)\u001b[0m  \u001b[0;31m# or raise TypeError\u001b[0m\u001b[0;34m\u001b[0m\u001b[0;34m\u001b[0m\u001b[0m\n\u001b[0;32m--> 147\u001b[0;31m         \u001b[0;32mfor\u001b[0m \u001b[0mn\u001b[0m\u001b[0;34m,\u001b[0m\u001b[0md\u001b[0m \u001b[0;32min\u001b[0m \u001b[0mmap\u001b[0m\u001b[0;34m(\u001b[0m\u001b[0m_exact_ratio\u001b[0m\u001b[0;34m,\u001b[0m \u001b[0mvalues\u001b[0m\u001b[0;34m)\u001b[0m\u001b[0;34m:\u001b[0m\u001b[0;34m\u001b[0m\u001b[0;34m\u001b[0m\u001b[0m\n\u001b[0m\u001b[1;32m    148\u001b[0m             \u001b[0mcount\u001b[0m \u001b[0;34m+=\u001b[0m \u001b[0;36m1\u001b[0m\u001b[0;34m\u001b[0m\u001b[0;34m\u001b[0m\u001b[0m\n\u001b[1;32m    149\u001b[0m             \u001b[0mpartials\u001b[0m\u001b[0;34m[\u001b[0m\u001b[0md\u001b[0m\u001b[0;34m]\u001b[0m \u001b[0;34m=\u001b[0m \u001b[0mpartials_get\u001b[0m\u001b[0;34m(\u001b[0m\u001b[0md\u001b[0m\u001b[0;34m,\u001b[0m \u001b[0;36m0\u001b[0m\u001b[0;34m)\u001b[0m \u001b[0;34m+\u001b[0m \u001b[0mn\u001b[0m\u001b[0;34m\u001b[0m\u001b[0;34m\u001b[0m\u001b[0m\n",
            "\u001b[0;32m/usr/lib/python3.7/statistics.py\u001b[0m in \u001b[0;36m_exact_ratio\u001b[0;34m(x)\u001b[0m\n\u001b[1;32m    227\u001b[0m         \u001b[0;32mreturn\u001b[0m \u001b[0;34m(\u001b[0m\u001b[0mx\u001b[0m\u001b[0;34m,\u001b[0m \u001b[0;32mNone\u001b[0m\u001b[0;34m)\u001b[0m\u001b[0;34m\u001b[0m\u001b[0;34m\u001b[0m\u001b[0m\n\u001b[1;32m    228\u001b[0m     \u001b[0mmsg\u001b[0m \u001b[0;34m=\u001b[0m \u001b[0;34m\"can't convert type '{}' to numerator/denominator\"\u001b[0m\u001b[0;34m\u001b[0m\u001b[0;34m\u001b[0m\u001b[0m\n\u001b[0;32m--> 229\u001b[0;31m     \u001b[0;32mraise\u001b[0m \u001b[0mTypeError\u001b[0m\u001b[0;34m(\u001b[0m\u001b[0mmsg\u001b[0m\u001b[0;34m.\u001b[0m\u001b[0mformat\u001b[0m\u001b[0;34m(\u001b[0m\u001b[0mtype\u001b[0m\u001b[0;34m(\u001b[0m\u001b[0mx\u001b[0m\u001b[0;34m)\u001b[0m\u001b[0;34m.\u001b[0m\u001b[0m__name__\u001b[0m\u001b[0;34m)\u001b[0m\u001b[0;34m)\u001b[0m\u001b[0;34m\u001b[0m\u001b[0;34m\u001b[0m\u001b[0m\n\u001b[0m\u001b[1;32m    230\u001b[0m \u001b[0;34m\u001b[0m\u001b[0m\n\u001b[1;32m    231\u001b[0m \u001b[0;34m\u001b[0m\u001b[0m\n",
            "\u001b[0;31mTypeError\u001b[0m: can't convert type 'str' to numerator/denominator"
          ]
        }
      ]
    },
    {
      "cell_type": "markdown",
      "metadata": {
        "id": "OqtcQfoDkbjN"
      },
      "source": [
        "Despues indicamos la cantidad "
      ]
    }
  ],
  "metadata": {
    "kernelspec": {
      "display_name": "Python 3.9.13 ('JOKR')",
      "language": "python",
      "name": "python3"
    },
    "language_info": {
      "codemirror_mode": {
        "name": "ipython",
        "version": 3
      },
      "file_extension": ".py",
      "mimetype": "text/x-python",
      "name": "python",
      "nbconvert_exporter": "python",
      "pygments_lexer": "ipython3",
      "version": "3.9.13"
    },
    "orig_nbformat": 4,
    "vscode": {
      "interpreter": {
        "hash": "e3be17196c00dae4c49e670d5516bc8f32d5136144e31ba5c7cc20e6e0b25d5e"
      }
    },
    "colab": {
      "name": "Copia de Terrium.ipynb",
      "provenance": [],
      "collapsed_sections": [],
      "include_colab_link": true
    }
  },
  "nbformat": 4,
  "nbformat_minor": 0
}